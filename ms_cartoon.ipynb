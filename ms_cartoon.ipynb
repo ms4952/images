{
 "cells": [
  {
   "cell_type": "code",
   "execution_count": 1,
   "id": "7ee560e8",
   "metadata": {},
   "outputs": [],
   "source": [
    "import cv2\n",
    "import numpy as np"
   ]
  },
  {
   "cell_type": "code",
   "execution_count": 2,
   "id": "9039a54a",
   "metadata": {},
   "outputs": [
    {
     "name": "stdout",
     "output_type": "stream",
     "text": [
      "Collecting opencv-python\n",
      "  Downloading opencv_python-4.5.4.60-cp38-cp38-macosx_10_15_x86_64.whl (45.9 MB)\n",
      "\u001b[K     |████████████████████████████████| 45.9 MB 149 kB/s eta 0:00:011\n",
      "\u001b[?25hRequirement already satisfied: numpy>=1.17.3 in ./anaconda3/lib/python3.8/site-packages (from opencv-python) (1.20.1)\n",
      "Installing collected packages: opencv-python\n",
      "Successfully installed opencv-python-4.5.4.60\n"
     ]
    }
   ],
   "source": [
    "!pip install opencv-python"
   ]
  },
  {
   "cell_type": "code",
   "execution_count": 2,
   "id": "644dbb4f",
   "metadata": {},
   "outputs": [],
   "source": [
    "img = cv2.imread('mitali_sanwal.jpeg')\n",
    "# Apply some Gaussian blur on the image\n",
    "img_gb = cv2.GaussianBlur(img, (7, 7) ,0)\n",
    "# Apply some Median blur on the image\n",
    "img_mb = cv2.medianBlur(img_gb, 5)\n",
    "# Apply a bilateral filer on the image\n",
    "img_bf = cv2.bilateralFilter(img_mb, 5, 80, 80)"
   ]
  },
  {
   "cell_type": "code",
   "execution_count": 3,
   "id": "39a05dbc",
   "metadata": {},
   "outputs": [],
   "source": [
    "# Use the laplace filter to detect edges\n",
    "img_lp_im = cv2.Laplacian(img, cv2.CV_8U, ksize=5)\n",
    "img_lp_gb = cv2.Laplacian(img_gb, cv2.CV_8U, ksize=5)\n",
    "img_lp_mb = cv2.Laplacian(img_mb, cv2.CV_8U, ksize=5)\n",
    "img_lp_al = cv2.Laplacian(img_bf, cv2.CV_8U, ksize=5)"
   ]
  },
  {
   "cell_type": "code",
   "execution_count": 4,
   "id": "6507f290",
   "metadata": {},
   "outputs": [],
   "source": [
    "# Convert the image to greyscale (1D)\n",
    "img_lp_im_grey = cv2.cvtColor(img_lp_im, cv2.COLOR_BGR2GRAY)\n",
    "img_lp_gb_grey = cv2.cvtColor(img_lp_gb, cv2.COLOR_BGR2GRAY)\n",
    "img_lp_mb_grey = cv2.cvtColor(img_lp_mb, cv2.COLOR_BGR2GRAY)\n",
    "img_lp_al_grey = cv2.cvtColor(img_lp_al, cv2.COLOR_BGR2GRAY)\n"
   ]
  },
  {
   "cell_type": "code",
   "execution_count": 5,
   "id": "31e741e6",
   "metadata": {},
   "outputs": [],
   "source": [
    "# Manual image thresholding\n",
    "_, EdgeImage = cv2.threshold(img, 127, 255, cv2.THRESH_BINARY)\n"
   ]
  },
  {
   "cell_type": "code",
   "execution_count": 6,
   "id": "11f3787a",
   "metadata": {},
   "outputs": [],
   "source": [
    "# Remove some additional noise\n",
    "blur_im = cv2.GaussianBlur(img_lp_im_grey, (5, 5), 0)\n",
    "blur_gb = cv2.GaussianBlur(img_lp_gb_grey, (5, 5), 0)\n",
    "blur_mb = cv2.GaussianBlur(img_lp_mb_grey, (5, 5), 0)\n",
    "blur_al = cv2.GaussianBlur(img_lp_al_grey, (5, 5), 0)\n",
    "# Apply a threshold (Otsu)\n",
    "_, tresh_im = cv2.threshold(blur_im, 245, 255,cv2.THRESH_BINARY +  cv2.THRESH_OTSU)\n",
    "_, tresh_gb = cv2.threshold(blur_gb, 245, 255,cv2.THRESH_BINARY + cv2.THRESH_OTSU)\n",
    "_, tresh_mb = cv2.threshold(blur_mb, 245, 255,cv2.THRESH_BINARY + cv2.THRESH_OTSU)\n",
    "_, tresh_al = cv2.threshold(blur_al, 245, 255,cv2.THRESH_BINARY + cv2.THRESH_OTSU)"
   ]
  },
  {
   "cell_type": "code",
   "execution_count": 7,
   "id": "7ca761c0",
   "metadata": {},
   "outputs": [],
   "source": [
    "# Invert the black and the white\n",
    "inverted_original = cv2.subtract(255, tresh_im)\n",
    "inverted_GaussianBlur = cv2.subtract(255, tresh_gb)\n",
    "inverted_MedianBlur = cv2.subtract(255, tresh_mb)\n",
    "inverted_Bilateral = cv2.subtract(255, tresh_al)"
   ]
  },
  {
   "cell_type": "code",
   "execution_count": 8,
   "id": "308c4d1b",
   "metadata": {},
   "outputs": [],
   "source": [
    "# Reshape the image\n",
    "img_reshaped = img.reshape((-1,3))\n",
    "# convert to np.float32\n",
    "img_reshaped = np.float32(img_reshaped)\n",
    "# Set the Kmeans criteria\n",
    "criteria = (cv2.TERM_CRITERIA_EPS + cv2.TERM_CRITERIA_MAX_ITER, 10, 1.0)\n",
    "# Set the amount of K (colors)\n",
    "K = 8\n",
    "# Apply Kmeans\n",
    "_, label, center = cv2.kmeans(img_reshaped, K, None, criteria, 10, cv2.KMEANS_RANDOM_CENTERS)\n",
    "# Covert it back to np.int8\n",
    "center = np.uint8(center)\n",
    "res = center[label.flatten()]\n",
    "# Reshape it back to an image\n",
    "img_Kmeans = res.reshape((img.shape))"
   ]
  },
  {
   "cell_type": "code",
   "execution_count": 9,
   "id": "e845b088",
   "metadata": {},
   "outputs": [],
   "source": [
    "# Reduce the colors of the original image\n",
    "div = 64\n",
    "img_bins = img // div * div + div // 2\n"
   ]
  },
  {
   "cell_type": "code",
   "execution_count": 10,
   "id": "8c7dac9b",
   "metadata": {},
   "outputs": [
    {
     "data": {
      "text/plain": [
       "True"
      ]
     },
     "execution_count": 10,
     "metadata": {},
     "output_type": "execute_result"
    }
   ],
   "source": [
    "# Convert the mask image back to color \n",
    "inverted_Bilateral = cv2.cvtColor(inverted_Bilateral, cv2.COLOR_GRAY2RGB)\n",
    "# Combine the edge image and the binned image\n",
    "cartoon_Bilateral = cv2.bitwise_and(inverted_Bilateral, img_bins)\n",
    "# Save the image\n",
    "cv2.imwrite('CartoonImage.png', cartoon_Bilateral)"
   ]
  },
  {
   "cell_type": "code",
   "execution_count": null,
   "id": "40ae136a",
   "metadata": {},
   "outputs": [],
   "source": []
  }
 ],
 "metadata": {
  "kernelspec": {
   "display_name": "Python 3",
   "language": "python",
   "name": "python3"
  },
  "language_info": {
   "codemirror_mode": {
    "name": "ipython",
    "version": 3
   },
   "file_extension": ".py",
   "mimetype": "text/x-python",
   "name": "python",
   "nbconvert_exporter": "python",
   "pygments_lexer": "ipython3",
   "version": "3.8.8"
  }
 },
 "nbformat": 4,
 "nbformat_minor": 5
}
